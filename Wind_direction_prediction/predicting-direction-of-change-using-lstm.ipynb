{
 "cells": [
  {
   "cell_type": "code",
   "execution_count": 1,
   "id": "10b4b92e",
   "metadata": {
    "_cell_guid": "b1076dfc-b9ad-4769-8c92-a6c4dae69d19",
    "_uuid": "8f2839f25d086af736a60e9eeb907d3b93b6e0e5",
    "execution": {
     "iopub.execute_input": "2024-01-05T09:44:11.159874Z",
     "iopub.status.busy": "2024-01-05T09:44:11.159406Z",
     "iopub.status.idle": "2024-01-05T09:44:11.594590Z",
     "shell.execute_reply": "2024-01-05T09:44:11.593100Z"
    },
    "papermill": {
     "duration": 0.446231,
     "end_time": "2024-01-05T09:44:11.597669",
     "exception": false,
     "start_time": "2024-01-05T09:44:11.151438",
     "status": "completed"
    },
    "tags": []
   },
   "outputs": [
    {
     "name": "stdout",
     "output_type": "stream",
     "text": [
      "/kaggle/input/wind-power-generation-data-forecasting/Location2.csv\n",
      "/kaggle/input/wind-power-generation-data-forecasting/readme.txt\n",
      "/kaggle/input/wind-power-generation-data-forecasting/Location3.csv\n",
      "/kaggle/input/wind-power-generation-data-forecasting/Location1.csv\n",
      "/kaggle/input/wind-power-generation-data-forecasting/Location4.csv\n"
     ]
    }
   ],
   "source": [
    "# This Python 3 environment comes with many helpful analytics libraries installed\n",
    "# It is defined by the kaggle/python Docker image: https://github.com/kaggle/docker-python\n",
    "# For example, here's several helpful packages to load\n",
    "\n",
    "import numpy as np # linear algebra\n",
    "import pandas as pd # data processing, CSV file I/O (e.g. pd.read_csv)\n",
    "\n",
    "# Input data files are available in the read-only \"../input/\" directory\n",
    "# For example, running this (by clicking run or pressing Shift+Enter) will list all files under the input directory\n",
    "\n",
    "import os\n",
    "for dirname, _, filenames in os.walk('/kaggle/input'):\n",
    "    for filename in filenames:\n",
    "        print(os.path.join(dirname, filename))\n",
    "\n",
    "# You can write up to 20GB to the current directory (/kaggle/working/) that gets preserved as output when you create a version using \"Save & Run All\" \n",
    "# You can also write temporary files to /kaggle/temp/, but they won't be saved outside of the current session"
   ]
  },
  {
   "cell_type": "code",
   "execution_count": 2,
   "id": "5c5e0b83",
   "metadata": {
    "execution": {
     "iopub.execute_input": "2024-01-05T09:44:11.611656Z",
     "iopub.status.busy": "2024-01-05T09:44:11.610592Z",
     "iopub.status.idle": "2024-01-05T09:44:11.736993Z",
     "shell.execute_reply": "2024-01-05T09:44:11.735652Z"
    },
    "papermill": {
     "duration": 0.136246,
     "end_time": "2024-01-05T09:44:11.739930",
     "exception": false,
     "start_time": "2024-01-05T09:44:11.603684",
     "status": "completed"
    },
    "tags": []
   },
   "outputs": [],
   "source": [
    "df=pd.read_csv('/kaggle/input/wind-power-generation-data-forecasting/Location1.csv')"
   ]
  },
  {
   "cell_type": "code",
   "execution_count": 3,
   "id": "cff82e10",
   "metadata": {
    "execution": {
     "iopub.execute_input": "2024-01-05T09:44:11.753934Z",
     "iopub.status.busy": "2024-01-05T09:44:11.752718Z",
     "iopub.status.idle": "2024-01-05T09:44:11.788681Z",
     "shell.execute_reply": "2024-01-05T09:44:11.787644Z"
    },
    "papermill": {
     "duration": 0.046015,
     "end_time": "2024-01-05T09:44:11.791735",
     "exception": false,
     "start_time": "2024-01-05T09:44:11.745720",
     "status": "completed"
    },
    "tags": []
   },
   "outputs": [
    {
     "data": {
      "text/html": [
       "<div>\n",
       "<style scoped>\n",
       "    .dataframe tbody tr th:only-of-type {\n",
       "        vertical-align: middle;\n",
       "    }\n",
       "\n",
       "    .dataframe tbody tr th {\n",
       "        vertical-align: top;\n",
       "    }\n",
       "\n",
       "    .dataframe thead th {\n",
       "        text-align: right;\n",
       "    }\n",
       "</style>\n",
       "<table border=\"1\" class=\"dataframe\">\n",
       "  <thead>\n",
       "    <tr style=\"text-align: right;\">\n",
       "      <th></th>\n",
       "      <th>Time</th>\n",
       "      <th>temperature_2m</th>\n",
       "      <th>relativehumidity_2m</th>\n",
       "      <th>dewpoint_2m</th>\n",
       "      <th>windspeed_10m</th>\n",
       "      <th>windspeed_100m</th>\n",
       "      <th>winddirection_10m</th>\n",
       "      <th>winddirection_100m</th>\n",
       "      <th>windgusts_10m</th>\n",
       "      <th>Power</th>\n",
       "    </tr>\n",
       "  </thead>\n",
       "  <tbody>\n",
       "    <tr>\n",
       "      <th>0</th>\n",
       "      <td>2017-01-02 00:00:00</td>\n",
       "      <td>28.5</td>\n",
       "      <td>85</td>\n",
       "      <td>24.5</td>\n",
       "      <td>1.44</td>\n",
       "      <td>1.26</td>\n",
       "      <td>146</td>\n",
       "      <td>162</td>\n",
       "      <td>1.4</td>\n",
       "      <td>0.1635</td>\n",
       "    </tr>\n",
       "    <tr>\n",
       "      <th>1</th>\n",
       "      <td>2017-01-02 01:00:00</td>\n",
       "      <td>28.4</td>\n",
       "      <td>86</td>\n",
       "      <td>24.7</td>\n",
       "      <td>2.06</td>\n",
       "      <td>3.99</td>\n",
       "      <td>151</td>\n",
       "      <td>158</td>\n",
       "      <td>4.4</td>\n",
       "      <td>0.1424</td>\n",
       "    </tr>\n",
       "    <tr>\n",
       "      <th>2</th>\n",
       "      <td>2017-01-02 02:00:00</td>\n",
       "      <td>26.8</td>\n",
       "      <td>91</td>\n",
       "      <td>24.5</td>\n",
       "      <td>1.30</td>\n",
       "      <td>2.78</td>\n",
       "      <td>148</td>\n",
       "      <td>150</td>\n",
       "      <td>3.2</td>\n",
       "      <td>0.1214</td>\n",
       "    </tr>\n",
       "    <tr>\n",
       "      <th>3</th>\n",
       "      <td>2017-01-02 03:00:00</td>\n",
       "      <td>27.4</td>\n",
       "      <td>88</td>\n",
       "      <td>24.3</td>\n",
       "      <td>1.30</td>\n",
       "      <td>2.69</td>\n",
       "      <td>58</td>\n",
       "      <td>105</td>\n",
       "      <td>1.6</td>\n",
       "      <td>0.1003</td>\n",
       "    </tr>\n",
       "    <tr>\n",
       "      <th>4</th>\n",
       "      <td>2017-01-02 04:00:00</td>\n",
       "      <td>27.3</td>\n",
       "      <td>88</td>\n",
       "      <td>24.1</td>\n",
       "      <td>2.47</td>\n",
       "      <td>4.43</td>\n",
       "      <td>58</td>\n",
       "      <td>84</td>\n",
       "      <td>4.0</td>\n",
       "      <td>0.0793</td>\n",
       "    </tr>\n",
       "    <tr>\n",
       "      <th>...</th>\n",
       "      <td>...</td>\n",
       "      <td>...</td>\n",
       "      <td>...</td>\n",
       "      <td>...</td>\n",
       "      <td>...</td>\n",
       "      <td>...</td>\n",
       "      <td>...</td>\n",
       "      <td>...</td>\n",
       "      <td>...</td>\n",
       "      <td>...</td>\n",
       "    </tr>\n",
       "    <tr>\n",
       "      <th>43795</th>\n",
       "      <td>2021-12-31 19:00:00</td>\n",
       "      <td>34.1</td>\n",
       "      <td>94</td>\n",
       "      <td>32.5</td>\n",
       "      <td>1.00</td>\n",
       "      <td>1.91</td>\n",
       "      <td>53</td>\n",
       "      <td>137</td>\n",
       "      <td>2.5</td>\n",
       "      <td>0.1796</td>\n",
       "    </tr>\n",
       "    <tr>\n",
       "      <th>43796</th>\n",
       "      <td>2021-12-31 20:00:00</td>\n",
       "      <td>34.8</td>\n",
       "      <td>94</td>\n",
       "      <td>33.4</td>\n",
       "      <td>2.52</td>\n",
       "      <td>4.30</td>\n",
       "      <td>56</td>\n",
       "      <td>72</td>\n",
       "      <td>4.8</td>\n",
       "      <td>0.2066</td>\n",
       "    </tr>\n",
       "    <tr>\n",
       "      <th>43797</th>\n",
       "      <td>2021-12-31 21:00:00</td>\n",
       "      <td>34.1</td>\n",
       "      <td>95</td>\n",
       "      <td>33.0</td>\n",
       "      <td>1.10</td>\n",
       "      <td>1.84</td>\n",
       "      <td>360</td>\n",
       "      <td>45</td>\n",
       "      <td>4.3</td>\n",
       "      <td>0.2336</td>\n",
       "    </tr>\n",
       "    <tr>\n",
       "      <th>43798</th>\n",
       "      <td>2021-12-31 22:00:00</td>\n",
       "      <td>34.4</td>\n",
       "      <td>96</td>\n",
       "      <td>33.5</td>\n",
       "      <td>2.40</td>\n",
       "      <td>4.62</td>\n",
       "      <td>45</td>\n",
       "      <td>51</td>\n",
       "      <td>4.2</td>\n",
       "      <td>0.2606</td>\n",
       "    </tr>\n",
       "    <tr>\n",
       "      <th>43799</th>\n",
       "      <td>2021-12-31 23:00:00</td>\n",
       "      <td>35.0</td>\n",
       "      <td>97</td>\n",
       "      <td>34.2</td>\n",
       "      <td>2.26</td>\n",
       "      <td>5.04</td>\n",
       "      <td>45</td>\n",
       "      <td>51</td>\n",
       "      <td>4.3</td>\n",
       "      <td>0.2877</td>\n",
       "    </tr>\n",
       "  </tbody>\n",
       "</table>\n",
       "<p>43800 rows × 10 columns</p>\n",
       "</div>"
      ],
      "text/plain": [
       "                      Time  temperature_2m  relativehumidity_2m  dewpoint_2m  \\\n",
       "0      2017-01-02 00:00:00            28.5                   85         24.5   \n",
       "1      2017-01-02 01:00:00            28.4                   86         24.7   \n",
       "2      2017-01-02 02:00:00            26.8                   91         24.5   \n",
       "3      2017-01-02 03:00:00            27.4                   88         24.3   \n",
       "4      2017-01-02 04:00:00            27.3                   88         24.1   \n",
       "...                    ...             ...                  ...          ...   \n",
       "43795  2021-12-31 19:00:00            34.1                   94         32.5   \n",
       "43796  2021-12-31 20:00:00            34.8                   94         33.4   \n",
       "43797  2021-12-31 21:00:00            34.1                   95         33.0   \n",
       "43798  2021-12-31 22:00:00            34.4                   96         33.5   \n",
       "43799  2021-12-31 23:00:00            35.0                   97         34.2   \n",
       "\n",
       "       windspeed_10m  windspeed_100m  winddirection_10m  winddirection_100m  \\\n",
       "0               1.44            1.26                146                 162   \n",
       "1               2.06            3.99                151                 158   \n",
       "2               1.30            2.78                148                 150   \n",
       "3               1.30            2.69                 58                 105   \n",
       "4               2.47            4.43                 58                  84   \n",
       "...              ...             ...                ...                 ...   \n",
       "43795           1.00            1.91                 53                 137   \n",
       "43796           2.52            4.30                 56                  72   \n",
       "43797           1.10            1.84                360                  45   \n",
       "43798           2.40            4.62                 45                  51   \n",
       "43799           2.26            5.04                 45                  51   \n",
       "\n",
       "       windgusts_10m   Power  \n",
       "0                1.4  0.1635  \n",
       "1                4.4  0.1424  \n",
       "2                3.2  0.1214  \n",
       "3                1.6  0.1003  \n",
       "4                4.0  0.0793  \n",
       "...              ...     ...  \n",
       "43795            2.5  0.1796  \n",
       "43796            4.8  0.2066  \n",
       "43797            4.3  0.2336  \n",
       "43798            4.2  0.2606  \n",
       "43799            4.3  0.2877  \n",
       "\n",
       "[43800 rows x 10 columns]"
      ]
     },
     "execution_count": 3,
     "metadata": {},
     "output_type": "execute_result"
    }
   ],
   "source": [
    "df"
   ]
  },
  {
   "cell_type": "code",
   "execution_count": 4,
   "id": "e8a9b7bf",
   "metadata": {
    "execution": {
     "iopub.execute_input": "2024-01-05T09:44:11.805638Z",
     "iopub.status.busy": "2024-01-05T09:44:11.805176Z",
     "iopub.status.idle": "2024-01-05T09:44:11.832313Z",
     "shell.execute_reply": "2024-01-05T09:44:11.831292Z"
    },
    "papermill": {
     "duration": 0.037082,
     "end_time": "2024-01-05T09:44:11.835044",
     "exception": false,
     "start_time": "2024-01-05T09:44:11.797962",
     "status": "completed"
    },
    "tags": []
   },
   "outputs": [],
   "source": [
    "df['Time']=pd.to_datetime(df['Time'])"
   ]
  },
  {
   "cell_type": "code",
   "execution_count": 5,
   "id": "5da5fa20",
   "metadata": {
    "execution": {
     "iopub.execute_input": "2024-01-05T09:44:11.848981Z",
     "iopub.status.busy": "2024-01-05T09:44:11.848576Z",
     "iopub.status.idle": "2024-01-05T09:44:11.873716Z",
     "shell.execute_reply": "2024-01-05T09:44:11.872644Z"
    },
    "papermill": {
     "duration": 0.035268,
     "end_time": "2024-01-05T09:44:11.876297",
     "exception": false,
     "start_time": "2024-01-05T09:44:11.841029",
     "status": "completed"
    },
    "tags": []
   },
   "outputs": [
    {
     "data": {
      "text/plain": [
       "Power                  1.000000\n",
       "windspeed_100m         0.778704\n",
       "windspeed_10m          0.732801\n",
       "windgusts_10m          0.662677\n",
       "winddirection_100m     0.171619\n",
       "winddirection_10m      0.157623\n",
       "Time                  -0.011625\n",
       "relativehumidity_2m   -0.070360\n",
       "temperature_2m        -0.207101\n",
       "dewpoint_2m           -0.223739\n",
       "Name: Power, dtype: float64"
      ]
     },
     "execution_count": 5,
     "metadata": {},
     "output_type": "execute_result"
    }
   ],
   "source": [
    "df.corr()['Power'].sort_values(ascending=False)"
   ]
  },
  {
   "cell_type": "code",
   "execution_count": 6,
   "id": "a7b1807a",
   "metadata": {
    "execution": {
     "iopub.execute_input": "2024-01-05T09:44:11.890336Z",
     "iopub.status.busy": "2024-01-05T09:44:11.889645Z",
     "iopub.status.idle": "2024-01-05T09:44:11.896267Z",
     "shell.execute_reply": "2024-01-05T09:44:11.895157Z"
    },
    "papermill": {
     "duration": 0.016178,
     "end_time": "2024-01-05T09:44:11.898547",
     "exception": false,
     "start_time": "2024-01-05T09:44:11.882369",
     "status": "completed"
    },
    "tags": []
   },
   "outputs": [],
   "source": [
    "df=df.set_index('Time')"
   ]
  },
  {
   "cell_type": "code",
   "execution_count": 7,
   "id": "acc05f9c",
   "metadata": {
    "execution": {
     "iopub.execute_input": "2024-01-05T09:44:11.912477Z",
     "iopub.status.busy": "2024-01-05T09:44:11.911789Z",
     "iopub.status.idle": "2024-01-05T09:44:11.937456Z",
     "shell.execute_reply": "2024-01-05T09:44:11.936436Z"
    },
    "papermill": {
     "duration": 0.035472,
     "end_time": "2024-01-05T09:44:11.940139",
     "exception": false,
     "start_time": "2024-01-05T09:44:11.904667",
     "status": "completed"
    },
    "tags": []
   },
   "outputs": [],
   "source": [
    "df['Power']=(df['Power']-df['Power'].shift(1)).apply(lambda x:1 if x>0 else 0)"
   ]
  },
  {
   "cell_type": "code",
   "execution_count": 8,
   "id": "fc837584",
   "metadata": {
    "execution": {
     "iopub.execute_input": "2024-01-05T09:44:11.954111Z",
     "iopub.status.busy": "2024-01-05T09:44:11.953686Z",
     "iopub.status.idle": "2024-01-05T09:44:11.974860Z",
     "shell.execute_reply": "2024-01-05T09:44:11.974091Z"
    },
    "papermill": {
     "duration": 0.03041,
     "end_time": "2024-01-05T09:44:11.976698",
     "exception": false,
     "start_time": "2024-01-05T09:44:11.946288",
     "status": "completed"
    },
    "tags": []
   },
   "outputs": [
    {
     "data": {
      "text/html": [
       "<div>\n",
       "<style scoped>\n",
       "    .dataframe tbody tr th:only-of-type {\n",
       "        vertical-align: middle;\n",
       "    }\n",
       "\n",
       "    .dataframe tbody tr th {\n",
       "        vertical-align: top;\n",
       "    }\n",
       "\n",
       "    .dataframe thead th {\n",
       "        text-align: right;\n",
       "    }\n",
       "</style>\n",
       "<table border=\"1\" class=\"dataframe\">\n",
       "  <thead>\n",
       "    <tr style=\"text-align: right;\">\n",
       "      <th></th>\n",
       "      <th>temperature_2m</th>\n",
       "      <th>relativehumidity_2m</th>\n",
       "      <th>dewpoint_2m</th>\n",
       "      <th>windspeed_10m</th>\n",
       "      <th>windspeed_100m</th>\n",
       "      <th>winddirection_10m</th>\n",
       "      <th>winddirection_100m</th>\n",
       "      <th>windgusts_10m</th>\n",
       "      <th>Power</th>\n",
       "    </tr>\n",
       "    <tr>\n",
       "      <th>Time</th>\n",
       "      <th></th>\n",
       "      <th></th>\n",
       "      <th></th>\n",
       "      <th></th>\n",
       "      <th></th>\n",
       "      <th></th>\n",
       "      <th></th>\n",
       "      <th></th>\n",
       "      <th></th>\n",
       "    </tr>\n",
       "  </thead>\n",
       "  <tbody>\n",
       "    <tr>\n",
       "      <th>2017-01-02 00:00:00</th>\n",
       "      <td>28.5</td>\n",
       "      <td>85</td>\n",
       "      <td>24.5</td>\n",
       "      <td>1.44</td>\n",
       "      <td>1.26</td>\n",
       "      <td>146</td>\n",
       "      <td>162</td>\n",
       "      <td>1.4</td>\n",
       "      <td>0</td>\n",
       "    </tr>\n",
       "    <tr>\n",
       "      <th>2017-01-02 01:00:00</th>\n",
       "      <td>28.4</td>\n",
       "      <td>86</td>\n",
       "      <td>24.7</td>\n",
       "      <td>2.06</td>\n",
       "      <td>3.99</td>\n",
       "      <td>151</td>\n",
       "      <td>158</td>\n",
       "      <td>4.4</td>\n",
       "      <td>0</td>\n",
       "    </tr>\n",
       "    <tr>\n",
       "      <th>2017-01-02 02:00:00</th>\n",
       "      <td>26.8</td>\n",
       "      <td>91</td>\n",
       "      <td>24.5</td>\n",
       "      <td>1.30</td>\n",
       "      <td>2.78</td>\n",
       "      <td>148</td>\n",
       "      <td>150</td>\n",
       "      <td>3.2</td>\n",
       "      <td>0</td>\n",
       "    </tr>\n",
       "    <tr>\n",
       "      <th>2017-01-02 03:00:00</th>\n",
       "      <td>27.4</td>\n",
       "      <td>88</td>\n",
       "      <td>24.3</td>\n",
       "      <td>1.30</td>\n",
       "      <td>2.69</td>\n",
       "      <td>58</td>\n",
       "      <td>105</td>\n",
       "      <td>1.6</td>\n",
       "      <td>0</td>\n",
       "    </tr>\n",
       "    <tr>\n",
       "      <th>2017-01-02 04:00:00</th>\n",
       "      <td>27.3</td>\n",
       "      <td>88</td>\n",
       "      <td>24.1</td>\n",
       "      <td>2.47</td>\n",
       "      <td>4.43</td>\n",
       "      <td>58</td>\n",
       "      <td>84</td>\n",
       "      <td>4.0</td>\n",
       "      <td>0</td>\n",
       "    </tr>\n",
       "    <tr>\n",
       "      <th>...</th>\n",
       "      <td>...</td>\n",
       "      <td>...</td>\n",
       "      <td>...</td>\n",
       "      <td>...</td>\n",
       "      <td>...</td>\n",
       "      <td>...</td>\n",
       "      <td>...</td>\n",
       "      <td>...</td>\n",
       "      <td>...</td>\n",
       "    </tr>\n",
       "    <tr>\n",
       "      <th>2021-12-31 19:00:00</th>\n",
       "      <td>34.1</td>\n",
       "      <td>94</td>\n",
       "      <td>32.5</td>\n",
       "      <td>1.00</td>\n",
       "      <td>1.91</td>\n",
       "      <td>53</td>\n",
       "      <td>137</td>\n",
       "      <td>2.5</td>\n",
       "      <td>1</td>\n",
       "    </tr>\n",
       "    <tr>\n",
       "      <th>2021-12-31 20:00:00</th>\n",
       "      <td>34.8</td>\n",
       "      <td>94</td>\n",
       "      <td>33.4</td>\n",
       "      <td>2.52</td>\n",
       "      <td>4.30</td>\n",
       "      <td>56</td>\n",
       "      <td>72</td>\n",
       "      <td>4.8</td>\n",
       "      <td>1</td>\n",
       "    </tr>\n",
       "    <tr>\n",
       "      <th>2021-12-31 21:00:00</th>\n",
       "      <td>34.1</td>\n",
       "      <td>95</td>\n",
       "      <td>33.0</td>\n",
       "      <td>1.10</td>\n",
       "      <td>1.84</td>\n",
       "      <td>360</td>\n",
       "      <td>45</td>\n",
       "      <td>4.3</td>\n",
       "      <td>1</td>\n",
       "    </tr>\n",
       "    <tr>\n",
       "      <th>2021-12-31 22:00:00</th>\n",
       "      <td>34.4</td>\n",
       "      <td>96</td>\n",
       "      <td>33.5</td>\n",
       "      <td>2.40</td>\n",
       "      <td>4.62</td>\n",
       "      <td>45</td>\n",
       "      <td>51</td>\n",
       "      <td>4.2</td>\n",
       "      <td>1</td>\n",
       "    </tr>\n",
       "    <tr>\n",
       "      <th>2021-12-31 23:00:00</th>\n",
       "      <td>35.0</td>\n",
       "      <td>97</td>\n",
       "      <td>34.2</td>\n",
       "      <td>2.26</td>\n",
       "      <td>5.04</td>\n",
       "      <td>45</td>\n",
       "      <td>51</td>\n",
       "      <td>4.3</td>\n",
       "      <td>1</td>\n",
       "    </tr>\n",
       "  </tbody>\n",
       "</table>\n",
       "<p>43800 rows × 9 columns</p>\n",
       "</div>"
      ],
      "text/plain": [
       "                     temperature_2m  relativehumidity_2m  dewpoint_2m  \\\n",
       "Time                                                                    \n",
       "2017-01-02 00:00:00            28.5                   85         24.5   \n",
       "2017-01-02 01:00:00            28.4                   86         24.7   \n",
       "2017-01-02 02:00:00            26.8                   91         24.5   \n",
       "2017-01-02 03:00:00            27.4                   88         24.3   \n",
       "2017-01-02 04:00:00            27.3                   88         24.1   \n",
       "...                             ...                  ...          ...   \n",
       "2021-12-31 19:00:00            34.1                   94         32.5   \n",
       "2021-12-31 20:00:00            34.8                   94         33.4   \n",
       "2021-12-31 21:00:00            34.1                   95         33.0   \n",
       "2021-12-31 22:00:00            34.4                   96         33.5   \n",
       "2021-12-31 23:00:00            35.0                   97         34.2   \n",
       "\n",
       "                     windspeed_10m  windspeed_100m  winddirection_10m  \\\n",
       "Time                                                                    \n",
       "2017-01-02 00:00:00           1.44            1.26                146   \n",
       "2017-01-02 01:00:00           2.06            3.99                151   \n",
       "2017-01-02 02:00:00           1.30            2.78                148   \n",
       "2017-01-02 03:00:00           1.30            2.69                 58   \n",
       "2017-01-02 04:00:00           2.47            4.43                 58   \n",
       "...                            ...             ...                ...   \n",
       "2021-12-31 19:00:00           1.00            1.91                 53   \n",
       "2021-12-31 20:00:00           2.52            4.30                 56   \n",
       "2021-12-31 21:00:00           1.10            1.84                360   \n",
       "2021-12-31 22:00:00           2.40            4.62                 45   \n",
       "2021-12-31 23:00:00           2.26            5.04                 45   \n",
       "\n",
       "                     winddirection_100m  windgusts_10m  Power  \n",
       "Time                                                           \n",
       "2017-01-02 00:00:00                 162            1.4      0  \n",
       "2017-01-02 01:00:00                 158            4.4      0  \n",
       "2017-01-02 02:00:00                 150            3.2      0  \n",
       "2017-01-02 03:00:00                 105            1.6      0  \n",
       "2017-01-02 04:00:00                  84            4.0      0  \n",
       "...                                 ...            ...    ...  \n",
       "2021-12-31 19:00:00                 137            2.5      1  \n",
       "2021-12-31 20:00:00                  72            4.8      1  \n",
       "2021-12-31 21:00:00                  45            4.3      1  \n",
       "2021-12-31 22:00:00                  51            4.2      1  \n",
       "2021-12-31 23:00:00                  51            4.3      1  \n",
       "\n",
       "[43800 rows x 9 columns]"
      ]
     },
     "execution_count": 8,
     "metadata": {},
     "output_type": "execute_result"
    }
   ],
   "source": [
    "df"
   ]
  },
  {
   "cell_type": "code",
   "execution_count": 9,
   "id": "1c72c4a6",
   "metadata": {
    "execution": {
     "iopub.execute_input": "2024-01-05T09:44:11.991763Z",
     "iopub.status.busy": "2024-01-05T09:44:11.990634Z",
     "iopub.status.idle": "2024-01-05T09:44:11.997266Z",
     "shell.execute_reply": "2024-01-05T09:44:11.996383Z"
    },
    "papermill": {
     "duration": 0.01635,
     "end_time": "2024-01-05T09:44:11.999486",
     "exception": false,
     "start_time": "2024-01-05T09:44:11.983136",
     "status": "completed"
    },
    "tags": []
   },
   "outputs": [],
   "source": [
    "def df_to_Xy(df,lag):\n",
    "    df_as_np=df.to_numpy()\n",
    "    X=[]\n",
    "    y=[]\n",
    "    for i in range(len(df)-lag):\n",
    "        rows=[[r] for r in df_as_np[i:i+lag]]\n",
    "        label=df_as_np[i+lag,df.columns.get_loc('Power')]\n",
    "        X.append(rows)\n",
    "        y.append(label)\n",
    "    return np.array(X), np.array(y)"
   ]
  },
  {
   "cell_type": "code",
   "execution_count": 10,
   "id": "e118b7a3",
   "metadata": {
    "execution": {
     "iopub.execute_input": "2024-01-05T09:44:12.014088Z",
     "iopub.status.busy": "2024-01-05T09:44:12.013677Z",
     "iopub.status.idle": "2024-01-05T09:44:16.131758Z",
     "shell.execute_reply": "2024-01-05T09:44:16.130703Z"
    },
    "papermill": {
     "duration": 4.128627,
     "end_time": "2024-01-05T09:44:16.134572",
     "exception": false,
     "start_time": "2024-01-05T09:44:12.005945",
     "status": "completed"
    },
    "tags": []
   },
   "outputs": [],
   "source": [
    "X,y=df_to_Xy(df,50)"
   ]
  },
  {
   "cell_type": "code",
   "execution_count": 11,
   "id": "89538970",
   "metadata": {
    "execution": {
     "iopub.execute_input": "2024-01-05T09:44:16.149414Z",
     "iopub.status.busy": "2024-01-05T09:44:16.148960Z",
     "iopub.status.idle": "2024-01-05T09:44:16.155214Z",
     "shell.execute_reply": "2024-01-05T09:44:16.154252Z"
    },
    "papermill": {
     "duration": 0.016551,
     "end_time": "2024-01-05T09:44:16.157609",
     "exception": false,
     "start_time": "2024-01-05T09:44:16.141058",
     "status": "completed"
    },
    "tags": []
   },
   "outputs": [
    {
     "data": {
      "text/plain": [
       "((43750, 50, 1, 9), (43750,))"
      ]
     },
     "execution_count": 11,
     "metadata": {},
     "output_type": "execute_result"
    }
   ],
   "source": [
    "X.shape,y.shape"
   ]
  },
  {
   "cell_type": "code",
   "execution_count": 12,
   "id": "b6271fca",
   "metadata": {
    "execution": {
     "iopub.execute_input": "2024-01-05T09:44:16.172645Z",
     "iopub.status.busy": "2024-01-05T09:44:16.172171Z",
     "iopub.status.idle": "2024-01-05T09:44:16.182428Z",
     "shell.execute_reply": "2024-01-05T09:44:16.181256Z"
    },
    "papermill": {
     "duration": 0.020656,
     "end_time": "2024-01-05T09:44:16.184729",
     "exception": false,
     "start_time": "2024-01-05T09:44:16.164073",
     "status": "completed"
    },
    "tags": []
   },
   "outputs": [
    {
     "data": {
      "text/plain": [
       "((35000, 50, 9), (35000,), (4375, 50, 9), (4375,), (4375, 50, 9), (4375,))"
      ]
     },
     "execution_count": 12,
     "metadata": {},
     "output_type": "execute_result"
    }
   ],
   "source": [
    "train_idx=int(len(X)*0.8)\n",
    "val_idx=int(len(X)*0.9)\n",
    "\n",
    "X_train,y_train=X[:train_idx] ,y[:train_idx]\n",
    "X_val,y_val=X[train_idx:val_idx], y[train_idx:val_idx]\n",
    "X_test,y_test=X[val_idx:], y[val_idx:]\n",
    "\n",
    "X_train=X_train.reshape(X_train.shape[0], X_train.shape[1], -1)\n",
    "X_val=X_val.reshape(X_val.shape[0], X_val.shape[1], -1)\n",
    "X_test=X_test.reshape(X_test.shape[0], X_test.shape[1], -1)\n",
    "\n",
    "X_train.shape, y_train.shape, X_val.shape, y_val.shape, X_test.shape, y_test.shape"
   ]
  },
  {
   "cell_type": "markdown",
   "id": "75216f65",
   "metadata": {
    "papermill": {
     "duration": 0.006012,
     "end_time": "2024-01-05T09:44:16.197281",
     "exception": false,
     "start_time": "2024-01-05T09:44:16.191269",
     "status": "completed"
    },
    "tags": []
   },
   "source": [
    "# Building LSTM Model"
   ]
  },
  {
   "cell_type": "code",
   "execution_count": 13,
   "id": "01e851dc",
   "metadata": {
    "execution": {
     "iopub.execute_input": "2024-01-05T09:44:16.211954Z",
     "iopub.status.busy": "2024-01-05T09:44:16.211549Z",
     "iopub.status.idle": "2024-01-05T09:44:28.406342Z",
     "shell.execute_reply": "2024-01-05T09:44:28.405146Z"
    },
    "papermill": {
     "duration": 12.205656,
     "end_time": "2024-01-05T09:44:28.409306",
     "exception": false,
     "start_time": "2024-01-05T09:44:16.203650",
     "status": "completed"
    },
    "tags": []
   },
   "outputs": [],
   "source": [
    "from keras.models import Sequential\n",
    "from keras.layers import LSTM, Dense, InputLayer\n",
    "from keras.optimizers import Adam"
   ]
  },
  {
   "cell_type": "code",
   "execution_count": 14,
   "id": "62bd0312",
   "metadata": {
    "execution": {
     "iopub.execute_input": "2024-01-05T09:44:28.425642Z",
     "iopub.status.busy": "2024-01-05T09:44:28.424276Z",
     "iopub.status.idle": "2024-01-05T09:44:28.889649Z",
     "shell.execute_reply": "2024-01-05T09:44:28.888850Z"
    },
    "papermill": {
     "duration": 0.477457,
     "end_time": "2024-01-05T09:44:28.893794",
     "exception": false,
     "start_time": "2024-01-05T09:44:28.416337",
     "status": "completed"
    },
    "tags": []
   },
   "outputs": [
    {
     "name": "stdout",
     "output_type": "stream",
     "text": [
      "Model: \"sequential\"\n",
      "_________________________________________________________________\n",
      " Layer (type)                Output Shape              Param #   \n",
      "=================================================================\n",
      " lstm (LSTM)                 (None, 64)                18944     \n",
      "                                                                 \n",
      " dense (Dense)               (None, 1)                 65        \n",
      "                                                                 \n",
      "=================================================================\n",
      "Total params: 19009 (74.25 KB)\n",
      "Trainable params: 19009 (74.25 KB)\n",
      "Non-trainable params: 0 (0.00 Byte)\n",
      "_________________________________________________________________\n"
     ]
    }
   ],
   "source": [
    "model = Sequential()\n",
    "model.add(LSTM(units=64, input_shape=(50, 9)))\n",
    "model.add(Dense(units=1, activation='sigmoid'))\n",
    "\n",
    "model.summary()"
   ]
  },
  {
   "cell_type": "code",
   "execution_count": 15,
   "id": "66b55783",
   "metadata": {
    "execution": {
     "iopub.execute_input": "2024-01-05T09:44:28.910998Z",
     "iopub.status.busy": "2024-01-05T09:44:28.909855Z",
     "iopub.status.idle": "2024-01-05T10:08:22.271637Z",
     "shell.execute_reply": "2024-01-05T10:08:22.270393Z"
    },
    "papermill": {
     "duration": 1434.933022,
     "end_time": "2024-01-05T10:08:23.834206",
     "exception": false,
     "start_time": "2024-01-05T09:44:28.901184",
     "status": "completed"
    },
    "tags": []
   },
   "outputs": [
    {
     "name": "stdout",
     "output_type": "stream",
     "text": [
      "Epoch 1/100\n",
      "547/547 [==============================] - 18s 28ms/step - loss: 0.6690 - accuracy: 0.5929 - val_loss: 0.6206 - val_accuracy: 0.6731\n",
      "Epoch 2/100\n",
      "547/547 [==============================] - 14s 25ms/step - loss: 0.4053 - accuracy: 0.8575 - val_loss: 0.2880 - val_accuracy: 0.9230\n",
      "Epoch 3/100\n",
      "547/547 [==============================] - 14s 26ms/step - loss: 0.2693 - accuracy: 0.9289 - val_loss: 0.2492 - val_accuracy: 0.9346\n",
      "Epoch 4/100\n",
      "547/547 [==============================] - 14s 26ms/step - loss: 0.2505 - accuracy: 0.9321 - val_loss: 0.2448 - val_accuracy: 0.9344\n",
      "Epoch 5/100\n",
      "547/547 [==============================] - 15s 27ms/step - loss: 0.2476 - accuracy: 0.9321 - val_loss: 0.2565 - val_accuracy: 0.9349\n",
      "Epoch 6/100\n",
      "547/547 [==============================] - 14s 26ms/step - loss: 0.2439 - accuracy: 0.9324 - val_loss: 0.2345 - val_accuracy: 0.9349\n",
      "Epoch 7/100\n",
      "547/547 [==============================] - 14s 26ms/step - loss: 0.2431 - accuracy: 0.9323 - val_loss: 0.2380 - val_accuracy: 0.9344\n",
      "Epoch 8/100\n",
      "547/547 [==============================] - 15s 27ms/step - loss: 0.2412 - accuracy: 0.9323 - val_loss: 0.2289 - val_accuracy: 0.9349\n",
      "Epoch 9/100\n",
      "547/547 [==============================] - 14s 26ms/step - loss: 0.2397 - accuracy: 0.9324 - val_loss: 0.2368 - val_accuracy: 0.9346\n",
      "Epoch 10/100\n",
      "547/547 [==============================] - 14s 26ms/step - loss: 0.2389 - accuracy: 0.9325 - val_loss: 0.2290 - val_accuracy: 0.9349\n",
      "Epoch 11/100\n",
      "547/547 [==============================] - 14s 26ms/step - loss: 0.2387 - accuracy: 0.9321 - val_loss: 0.2245 - val_accuracy: 0.9346\n",
      "Epoch 12/100\n",
      "547/547 [==============================] - 15s 27ms/step - loss: 0.2370 - accuracy: 0.9323 - val_loss: 0.2252 - val_accuracy: 0.9349\n",
      "Epoch 13/100\n",
      "547/547 [==============================] - 15s 27ms/step - loss: 0.2348 - accuracy: 0.9323 - val_loss: 0.2246 - val_accuracy: 0.9346\n",
      "Epoch 14/100\n",
      "547/547 [==============================] - 15s 28ms/step - loss: 0.2341 - accuracy: 0.9327 - val_loss: 0.2210 - val_accuracy: 0.9346\n",
      "Epoch 15/100\n",
      "547/547 [==============================] - 15s 27ms/step - loss: 0.2325 - accuracy: 0.9325 - val_loss: 0.2287 - val_accuracy: 0.9344\n",
      "Epoch 16/100\n",
      "547/547 [==============================] - 15s 27ms/step - loss: 0.2346 - accuracy: 0.9323 - val_loss: 0.2235 - val_accuracy: 0.9349\n",
      "Epoch 17/100\n",
      "547/547 [==============================] - 14s 26ms/step - loss: 0.2319 - accuracy: 0.9324 - val_loss: 0.2262 - val_accuracy: 0.9349\n",
      "Epoch 18/100\n",
      "547/547 [==============================] - 14s 26ms/step - loss: 0.2316 - accuracy: 0.9325 - val_loss: 0.2292 - val_accuracy: 0.9351\n",
      "Epoch 19/100\n",
      "547/547 [==============================] - 14s 26ms/step - loss: 0.2316 - accuracy: 0.9325 - val_loss: 0.2194 - val_accuracy: 0.9349\n",
      "Epoch 20/100\n",
      "547/547 [==============================] - 14s 26ms/step - loss: 0.2296 - accuracy: 0.9325 - val_loss: 0.2382 - val_accuracy: 0.9349\n",
      "Epoch 21/100\n",
      "547/547 [==============================] - 14s 26ms/step - loss: 0.2326 - accuracy: 0.9323 - val_loss: 0.2206 - val_accuracy: 0.9346\n",
      "Epoch 22/100\n",
      "547/547 [==============================] - 14s 26ms/step - loss: 0.2297 - accuracy: 0.9325 - val_loss: 0.2196 - val_accuracy: 0.9346\n",
      "Epoch 23/100\n",
      "547/547 [==============================] - 14s 26ms/step - loss: 0.2319 - accuracy: 0.9325 - val_loss: 0.2209 - val_accuracy: 0.9349\n",
      "Epoch 24/100\n",
      "547/547 [==============================] - 14s 26ms/step - loss: 0.2300 - accuracy: 0.9326 - val_loss: 0.2153 - val_accuracy: 0.9349\n",
      "Epoch 25/100\n",
      "547/547 [==============================] - 14s 26ms/step - loss: 0.2294 - accuracy: 0.9327 - val_loss: 0.2193 - val_accuracy: 0.9349\n",
      "Epoch 26/100\n",
      "547/547 [==============================] - 15s 27ms/step - loss: 0.2286 - accuracy: 0.9326 - val_loss: 0.2212 - val_accuracy: 0.9349\n",
      "Epoch 27/100\n",
      "547/547 [==============================] - 14s 26ms/step - loss: 0.2298 - accuracy: 0.9325 - val_loss: 0.2223 - val_accuracy: 0.9349\n",
      "Epoch 28/100\n",
      "547/547 [==============================] - 14s 25ms/step - loss: 0.2316 - accuracy: 0.9323 - val_loss: 0.2271 - val_accuracy: 0.9344\n",
      "Epoch 29/100\n",
      "547/547 [==============================] - 14s 25ms/step - loss: 0.2305 - accuracy: 0.9326 - val_loss: 0.2243 - val_accuracy: 0.9349\n",
      "Epoch 30/100\n",
      "547/547 [==============================] - 14s 26ms/step - loss: 0.2284 - accuracy: 0.9325 - val_loss: 0.2221 - val_accuracy: 0.9349\n",
      "Epoch 31/100\n",
      "547/547 [==============================] - 14s 25ms/step - loss: 0.2341 - accuracy: 0.9326 - val_loss: 0.2305 - val_accuracy: 0.9346\n",
      "Epoch 32/100\n",
      "547/547 [==============================] - 14s 26ms/step - loss: 0.2309 - accuracy: 0.9326 - val_loss: 0.2242 - val_accuracy: 0.9337\n",
      "Epoch 33/100\n",
      "547/547 [==============================] - 14s 25ms/step - loss: 0.2286 - accuracy: 0.9327 - val_loss: 0.2267 - val_accuracy: 0.9349\n",
      "Epoch 34/100\n",
      "547/547 [==============================] - 15s 27ms/step - loss: 0.2311 - accuracy: 0.9325 - val_loss: 0.2251 - val_accuracy: 0.9344\n",
      "Epoch 35/100\n",
      "547/547 [==============================] - 14s 25ms/step - loss: 0.2295 - accuracy: 0.9327 - val_loss: 0.2288 - val_accuracy: 0.9349\n",
      "Epoch 36/100\n",
      "547/547 [==============================] - 14s 25ms/step - loss: 0.2268 - accuracy: 0.9328 - val_loss: 0.2278 - val_accuracy: 0.9346\n",
      "Epoch 37/100\n",
      "547/547 [==============================] - 14s 26ms/step - loss: 0.2282 - accuracy: 0.9327 - val_loss: 0.2189 - val_accuracy: 0.9344\n",
      "Epoch 38/100\n",
      "547/547 [==============================] - 14s 25ms/step - loss: 0.2268 - accuracy: 0.9328 - val_loss: 0.2258 - val_accuracy: 0.9335\n",
      "Epoch 39/100\n",
      "547/547 [==============================] - 14s 26ms/step - loss: 0.2278 - accuracy: 0.9323 - val_loss: 0.2250 - val_accuracy: 0.9344\n",
      "Epoch 40/100\n",
      "547/547 [==============================] - 14s 26ms/step - loss: 0.2281 - accuracy: 0.9326 - val_loss: 0.2295 - val_accuracy: 0.9342\n",
      "Epoch 41/100\n",
      "547/547 [==============================] - 14s 26ms/step - loss: 0.2300 - accuracy: 0.9323 - val_loss: 0.2212 - val_accuracy: 0.9333\n",
      "Epoch 42/100\n",
      "547/547 [==============================] - 14s 25ms/step - loss: 0.2277 - accuracy: 0.9327 - val_loss: 0.2207 - val_accuracy: 0.9344\n",
      "Epoch 43/100\n",
      "547/547 [==============================] - 14s 26ms/step - loss: 0.2269 - accuracy: 0.9323 - val_loss: 0.2207 - val_accuracy: 0.9342\n",
      "Epoch 44/100\n",
      "547/547 [==============================] - 14s 25ms/step - loss: 0.2278 - accuracy: 0.9326 - val_loss: 0.2303 - val_accuracy: 0.9339\n",
      "Epoch 45/100\n",
      "547/547 [==============================] - 14s 25ms/step - loss: 0.2280 - accuracy: 0.9327 - val_loss: 0.2258 - val_accuracy: 0.9323\n",
      "Epoch 46/100\n",
      "547/547 [==============================] - 14s 25ms/step - loss: 0.2285 - accuracy: 0.9325 - val_loss: 0.2294 - val_accuracy: 0.9312\n",
      "Epoch 47/100\n",
      "547/547 [==============================] - 14s 25ms/step - loss: 0.2264 - accuracy: 0.9327 - val_loss: 0.2215 - val_accuracy: 0.9314\n",
      "Epoch 48/100\n",
      "547/547 [==============================] - 14s 26ms/step - loss: 0.2295 - accuracy: 0.9326 - val_loss: 0.2486 - val_accuracy: 0.9296\n",
      "Epoch 49/100\n",
      "547/547 [==============================] - 14s 25ms/step - loss: 0.2322 - accuracy: 0.9326 - val_loss: 0.2377 - val_accuracy: 0.9333\n",
      "Epoch 50/100\n",
      "547/547 [==============================] - 14s 26ms/step - loss: 0.2282 - accuracy: 0.9327 - val_loss: 0.2254 - val_accuracy: 0.9326\n",
      "Epoch 51/100\n",
      "547/547 [==============================] - 14s 25ms/step - loss: 0.2258 - accuracy: 0.9328 - val_loss: 0.2196 - val_accuracy: 0.9342\n",
      "Epoch 52/100\n",
      "547/547 [==============================] - 14s 25ms/step - loss: 0.2253 - accuracy: 0.9327 - val_loss: 0.2197 - val_accuracy: 0.9328\n",
      "Epoch 53/100\n",
      "547/547 [==============================] - 14s 25ms/step - loss: 0.2261 - accuracy: 0.9327 - val_loss: 0.2204 - val_accuracy: 0.9349\n",
      "Epoch 54/100\n",
      "547/547 [==============================] - 14s 25ms/step - loss: 0.2264 - accuracy: 0.9326 - val_loss: 0.2463 - val_accuracy: 0.9323\n",
      "Epoch 55/100\n",
      "547/547 [==============================] - 14s 25ms/step - loss: 0.2264 - accuracy: 0.9327 - val_loss: 0.2214 - val_accuracy: 0.9349\n",
      "Epoch 56/100\n",
      "547/547 [==============================] - 14s 25ms/step - loss: 0.2241 - accuracy: 0.9327 - val_loss: 0.2196 - val_accuracy: 0.9349\n",
      "Epoch 57/100\n",
      "547/547 [==============================] - 15s 27ms/step - loss: 0.2252 - accuracy: 0.9327 - val_loss: 0.2267 - val_accuracy: 0.9346\n",
      "Epoch 58/100\n",
      "547/547 [==============================] - 14s 25ms/step - loss: 0.2277 - accuracy: 0.9327 - val_loss: 0.2305 - val_accuracy: 0.9323\n",
      "Epoch 59/100\n",
      "547/547 [==============================] - 14s 26ms/step - loss: 0.2249 - accuracy: 0.9327 - val_loss: 0.2281 - val_accuracy: 0.9321\n",
      "Epoch 60/100\n",
      "547/547 [==============================] - 14s 25ms/step - loss: 0.2341 - accuracy: 0.9326 - val_loss: 0.2408 - val_accuracy: 0.9330\n",
      "Epoch 61/100\n",
      "547/547 [==============================] - 14s 25ms/step - loss: 0.2327 - accuracy: 0.9327 - val_loss: 0.2318 - val_accuracy: 0.9321\n",
      "Epoch 62/100\n",
      "547/547 [==============================] - 14s 26ms/step - loss: 0.2252 - accuracy: 0.9326 - val_loss: 0.2283 - val_accuracy: 0.9326\n",
      "Epoch 63/100\n",
      "547/547 [==============================] - 14s 25ms/step - loss: 0.2248 - accuracy: 0.9328 - val_loss: 0.2219 - val_accuracy: 0.9346\n",
      "Epoch 64/100\n",
      "547/547 [==============================] - 14s 26ms/step - loss: 0.2237 - accuracy: 0.9329 - val_loss: 0.2363 - val_accuracy: 0.9282\n",
      "Epoch 65/100\n",
      "547/547 [==============================] - 14s 25ms/step - loss: 0.2247 - accuracy: 0.9327 - val_loss: 0.2231 - val_accuracy: 0.9339\n",
      "Epoch 66/100\n",
      "547/547 [==============================] - 14s 26ms/step - loss: 0.2252 - accuracy: 0.9322 - val_loss: 0.2240 - val_accuracy: 0.9317\n",
      "Epoch 67/100\n",
      "547/547 [==============================] - 14s 25ms/step - loss: 0.2234 - accuracy: 0.9327 - val_loss: 0.2204 - val_accuracy: 0.9328\n",
      "Epoch 68/100\n",
      "547/547 [==============================] - 15s 27ms/step - loss: 0.2228 - accuracy: 0.9329 - val_loss: 0.2345 - val_accuracy: 0.9326\n",
      "Epoch 69/100\n",
      "547/547 [==============================] - 15s 28ms/step - loss: 0.2283 - accuracy: 0.9327 - val_loss: 0.2261 - val_accuracy: 0.9337\n",
      "Epoch 70/100\n",
      "547/547 [==============================] - 15s 27ms/step - loss: 0.2229 - accuracy: 0.9329 - val_loss: 0.2271 - val_accuracy: 0.9310\n",
      "Epoch 71/100\n",
      "547/547 [==============================] - 15s 27ms/step - loss: 0.2227 - accuracy: 0.9327 - val_loss: 0.2215 - val_accuracy: 0.9342\n",
      "Epoch 72/100\n",
      "547/547 [==============================] - 15s 27ms/step - loss: 0.2246 - accuracy: 0.9326 - val_loss: 0.2195 - val_accuracy: 0.9326\n",
      "Epoch 73/100\n",
      "547/547 [==============================] - 15s 28ms/step - loss: 0.2263 - accuracy: 0.9327 - val_loss: 0.2264 - val_accuracy: 0.9323\n",
      "Epoch 74/100\n",
      "547/547 [==============================] - 16s 29ms/step - loss: 0.2258 - accuracy: 0.9327 - val_loss: 0.2446 - val_accuracy: 0.9326\n",
      "Epoch 75/100\n",
      "547/547 [==============================] - 16s 28ms/step - loss: 0.2244 - accuracy: 0.9328 - val_loss: 0.2194 - val_accuracy: 0.9330\n",
      "Epoch 76/100\n",
      "547/547 [==============================] - 15s 27ms/step - loss: 0.2341 - accuracy: 0.9309 - val_loss: 0.2420 - val_accuracy: 0.9303\n",
      "Epoch 77/100\n",
      "547/547 [==============================] - 15s 28ms/step - loss: 0.2284 - accuracy: 0.9328 - val_loss: 0.2312 - val_accuracy: 0.9312\n",
      "Epoch 78/100\n",
      "547/547 [==============================] - 14s 26ms/step - loss: 0.2234 - accuracy: 0.9327 - val_loss: 0.2294 - val_accuracy: 0.9328\n",
      "Epoch 79/100\n",
      "547/547 [==============================] - 14s 26ms/step - loss: 0.2250 - accuracy: 0.9328 - val_loss: 0.2245 - val_accuracy: 0.9346\n",
      "Epoch 80/100\n",
      "547/547 [==============================] - 14s 26ms/step - loss: 0.2290 - accuracy: 0.9328 - val_loss: 0.2241 - val_accuracy: 0.9330\n",
      "Epoch 81/100\n",
      "547/547 [==============================] - 14s 26ms/step - loss: 0.2240 - accuracy: 0.9326 - val_loss: 0.2250 - val_accuracy: 0.9323\n",
      "Epoch 82/100\n",
      "547/547 [==============================] - 14s 26ms/step - loss: 0.2227 - accuracy: 0.9327 - val_loss: 0.2283 - val_accuracy: 0.9319\n",
      "Epoch 83/100\n",
      "547/547 [==============================] - 14s 26ms/step - loss: 0.2254 - accuracy: 0.9327 - val_loss: 0.2273 - val_accuracy: 0.9330\n",
      "Epoch 84/100\n",
      "547/547 [==============================] - 14s 26ms/step - loss: 0.2252 - accuracy: 0.9328 - val_loss: 0.2267 - val_accuracy: 0.9314\n",
      "Epoch 85/100\n",
      "547/547 [==============================] - 15s 27ms/step - loss: 0.2273 - accuracy: 0.9327 - val_loss: 0.2291 - val_accuracy: 0.9314\n",
      "Epoch 86/100\n",
      "547/547 [==============================] - 14s 26ms/step - loss: 0.2289 - accuracy: 0.9325 - val_loss: 0.2238 - val_accuracy: 0.9342\n",
      "Epoch 87/100\n",
      "547/547 [==============================] - 14s 26ms/step - loss: 0.2287 - accuracy: 0.9327 - val_loss: 0.2231 - val_accuracy: 0.9349\n",
      "Epoch 88/100\n",
      "547/547 [==============================] - 14s 26ms/step - loss: 0.2255 - accuracy: 0.9329 - val_loss: 0.2219 - val_accuracy: 0.9330\n",
      "Epoch 89/100\n",
      "547/547 [==============================] - 14s 26ms/step - loss: 0.2241 - accuracy: 0.9328 - val_loss: 0.2224 - val_accuracy: 0.9326\n",
      "Epoch 90/100\n",
      "547/547 [==============================] - 15s 27ms/step - loss: 0.2238 - accuracy: 0.9327 - val_loss: 0.2296 - val_accuracy: 0.9317\n",
      "Epoch 91/100\n",
      "547/547 [==============================] - 14s 26ms/step - loss: 0.2294 - accuracy: 0.9325 - val_loss: 0.2247 - val_accuracy: 0.9333\n",
      "Epoch 92/100\n",
      "547/547 [==============================] - 15s 27ms/step - loss: 0.2273 - accuracy: 0.9328 - val_loss: 0.2434 - val_accuracy: 0.9298\n",
      "Epoch 93/100\n",
      "547/547 [==============================] - 14s 26ms/step - loss: 0.2284 - accuracy: 0.9328 - val_loss: 0.2420 - val_accuracy: 0.9287\n",
      "Epoch 94/100\n",
      "547/547 [==============================] - 15s 27ms/step - loss: 0.2249 - accuracy: 0.9329 - val_loss: 0.2264 - val_accuracy: 0.9321\n",
      "Epoch 95/100\n",
      "547/547 [==============================] - 15s 27ms/step - loss: 0.2233 - accuracy: 0.9328 - val_loss: 0.2358 - val_accuracy: 0.9303\n",
      "Epoch 96/100\n",
      "547/547 [==============================] - 15s 27ms/step - loss: 0.2254 - accuracy: 0.9324 - val_loss: 0.2263 - val_accuracy: 0.9339\n",
      "Epoch 97/100\n",
      "547/547 [==============================] - 14s 26ms/step - loss: 0.2230 - accuracy: 0.9328 - val_loss: 0.2265 - val_accuracy: 0.9310\n",
      "Epoch 98/100\n",
      "547/547 [==============================] - 14s 26ms/step - loss: 0.2244 - accuracy: 0.9329 - val_loss: 0.2371 - val_accuracy: 0.9301\n",
      "Epoch 99/100\n",
      "547/547 [==============================] - 14s 26ms/step - loss: 0.2280 - accuracy: 0.9327 - val_loss: 0.2237 - val_accuracy: 0.9328\n",
      "Epoch 100/100\n",
      "547/547 [==============================] - 14s 26ms/step - loss: 0.2229 - accuracy: 0.9329 - val_loss: 0.2244 - val_accuracy: 0.9307\n"
     ]
    },
    {
     "data": {
      "text/plain": [
       "<keras.src.callbacks.History at 0x7d9a49e9c8b0>"
      ]
     },
     "execution_count": 15,
     "metadata": {},
     "output_type": "execute_result"
    }
   ],
   "source": [
    "model.compile(optimizer='adam', loss='binary_crossentropy', metrics=['accuracy'])\n",
    "model.fit(X_train, y_train, epochs=100, batch_size=64, validation_data=(X_val, y_val))"
   ]
  },
  {
   "cell_type": "code",
   "execution_count": 16,
   "id": "bde070f3",
   "metadata": {
    "execution": {
     "iopub.execute_input": "2024-01-05T10:08:26.832620Z",
     "iopub.status.busy": "2024-01-05T10:08:26.831731Z",
     "iopub.status.idle": "2024-01-05T10:08:28.469994Z",
     "shell.execute_reply": "2024-01-05T10:08:28.468851Z"
    },
    "papermill": {
     "duration": 3.198686,
     "end_time": "2024-01-05T10:08:28.472870",
     "exception": false,
     "start_time": "2024-01-05T10:08:25.274184",
     "status": "completed"
    },
    "tags": []
   },
   "outputs": [
    {
     "name": "stdout",
     "output_type": "stream",
     "text": [
      "137/137 [==============================] - 1s 8ms/step\n"
     ]
    }
   ],
   "source": [
    "test_predictions=model.predict(X_test)\n",
    "test_predictions = (test_predictions > 0.5).astype(int)"
   ]
  },
  {
   "cell_type": "code",
   "execution_count": 17,
   "id": "fb5bfd1a",
   "metadata": {
    "execution": {
     "iopub.execute_input": "2024-01-05T10:08:31.621951Z",
     "iopub.status.busy": "2024-01-05T10:08:31.621037Z",
     "iopub.status.idle": "2024-01-05T10:08:32.791732Z",
     "shell.execute_reply": "2024-01-05T10:08:32.790644Z"
    },
    "papermill": {
     "duration": 2.757564,
     "end_time": "2024-01-05T10:08:32.794533",
     "exception": false,
     "start_time": "2024-01-05T10:08:30.036969",
     "status": "completed"
    },
    "tags": []
   },
   "outputs": [],
   "source": [
    "from sklearn import metrics\n",
    "import seaborn as sns"
   ]
  },
  {
   "cell_type": "code",
   "execution_count": 18,
   "id": "67c9d30e",
   "metadata": {
    "execution": {
     "iopub.execute_input": "2024-01-05T10:08:35.899561Z",
     "iopub.status.busy": "2024-01-05T10:08:35.898739Z",
     "iopub.status.idle": "2024-01-05T10:08:37.038707Z",
     "shell.execute_reply": "2024-01-05T10:08:37.037608Z"
    },
    "papermill": {
     "duration": 2.695072,
     "end_time": "2024-01-05T10:08:37.040937",
     "exception": false,
     "start_time": "2024-01-05T10:08:34.345865",
     "status": "completed"
    },
    "tags": []
   },
   "outputs": [
    {
     "name": "stdout",
     "output_type": "stream",
     "text": [
      "137/137 [==============================] - 1s 8ms/step - loss: 0.2388 - accuracy: 0.9275\n",
      "Test Loss: 0.23877263069152832\n",
      "Test Accuracy: 0.9275428652763367\n",
      "f1 Score: 0.9302223200528286\n"
     ]
    }
   ],
   "source": [
    "evaluation = model.evaluate(X_test, y_test)\n",
    "\n",
    "# This will give you the loss value and accuracy on the test set\n",
    "print(f\"Test Loss: {evaluation[0]}\")\n",
    "print(f\"Test Accuracy: {evaluation[1]}\")\n",
    "print(f\"f1 Score: {metrics.f1_score(test_predictions,y_test)}\")"
   ]
  },
  {
   "cell_type": "code",
   "execution_count": 19,
   "id": "145e952e",
   "metadata": {
    "execution": {
     "iopub.execute_input": "2024-01-05T10:08:40.044736Z",
     "iopub.status.busy": "2024-01-05T10:08:40.043931Z",
     "iopub.status.idle": "2024-01-05T10:08:40.328693Z",
     "shell.execute_reply": "2024-01-05T10:08:40.327555Z"
    },
    "papermill": {
     "duration": 1.839275,
     "end_time": "2024-01-05T10:08:40.330896",
     "exception": false,
     "start_time": "2024-01-05T10:08:38.491621",
     "status": "completed"
    },
    "tags": []
   },
   "outputs": [
    {
     "data": {
      "text/plain": [
       "<Axes: >"
      ]
     },
     "execution_count": 19,
     "metadata": {},
     "output_type": "execute_result"
    },
    {
     "data": {
      "image/png": "[encoded data removed]",
      "text/plain": [
       "<Figure size 640x480 with 2 Axes>"
      ]
     },
     "metadata": {},
     "output_type": "display_data"
    }
   ],
   "source": [
    "cm=metrics.confusion_matrix(test_predictions,y_test)\n",
    "cm=(100*cm/cm.sum())\n",
    "\n",
    "sns.heatmap(cm,annot=True,cmap='Reds',fmt='.2f')"
   ]
  },
  {
   "cell_type": "code",
   "execution_count": null,
   "id": "c73bc867",
   "metadata": {
    "papermill": {
     "duration": 1.548594,
     "end_time": "2024-01-05T10:08:43.427896",
     "exception": false,
     "start_time": "2024-01-05T10:08:41.879302",
     "status": "completed"
    },
    "tags": []
   },
   "outputs": [],
   "source": []
  }
 ],
 "metadata": {
  "kaggle": {
   "accelerator": "none",
   "dataSources": [
    {
     "datasetId": 4259215,
     "sourceId": 7336551,
     "sourceType": "datasetVersion"
    }
   ],
   "dockerImageVersionId": 30626,
   "isGpuEnabled": false,
   "isInternetEnabled": true,
   "language": "python",
   "sourceType": "notebook"
  },
  "kernelspec": {
   "display_name": "Python 3",
   "language": "python",
   "name": "python3"
  },
  "language_info": {
   "codemirror_mode": {
    "name": "ipython",
    "version": 3
   },
   "file_extension": ".py",
   "mimetype": "text/x-python",
   "name": "python",
   "nbconvert_exporter": "python",
   "pygments_lexer": "ipython3",
   "version": "3.10.12"
  },
  "papermill": {
   "default_parameters": {},
   "duration": 1478.821661,
   "end_time": "2024-01-05T10:08:46.817810",
   "environment_variables": {},
   "exception": null,
   "input_path": "__notebook__.ipynb",
   "output_path": "__notebook__.ipynb",
   "parameters": {},
   "start_time": "2024-01-05T09:44:07.996149",
   "version": "2.4.0"
  }
 },
 "nbformat": 4,
 "nbformat_minor": 5
}
